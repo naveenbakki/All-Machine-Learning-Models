{
 "cells": [
  {
   "cell_type": "markdown",
   "id": "9d38213c",
   "metadata": {},
   "source": [
    "# Perform sentimental analysis on the Elon-musk tweets (Exlon-musk.csv)"
   ]
  },
  {
   "cell_type": "code",
   "execution_count": 46,
   "id": "644194ab",
   "metadata": {
    "ExecuteTime": {
     "end_time": "2022-06-23T10:38:16.238922Z",
     "start_time": "2022-06-23T10:38:16.230951Z"
    }
   },
   "outputs": [],
   "source": [
    "import pandas as pd \n",
    "import numpy as np \n",
    "import re # re-->regular expression "
   ]
  },
  {
   "cell_type": "code",
   "execution_count": 47,
   "id": "f2f40f2f",
   "metadata": {
    "ExecuteTime": {
     "end_time": "2022-06-23T10:38:16.585528Z",
     "start_time": "2022-06-23T10:38:16.574557Z"
    }
   },
   "outputs": [],
   "source": [
    "elon = pd.read_csv(\"Elon_musk.csv\",encoding='mac_roman')"
   ]
  },
  {
   "cell_type": "code",
   "execution_count": 48,
   "id": "335d6285",
   "metadata": {
    "ExecuteTime": {
     "end_time": "2022-06-23T10:38:16.961329Z",
     "start_time": "2022-06-23T10:38:16.944338Z"
    }
   },
   "outputs": [
    {
     "data": {
      "text/html": [
       "<div>\n",
       "<style scoped>\n",
       "    .dataframe tbody tr th:only-of-type {\n",
       "        vertical-align: middle;\n",
       "    }\n",
       "\n",
       "    .dataframe tbody tr th {\n",
       "        vertical-align: top;\n",
       "    }\n",
       "\n",
       "    .dataframe thead th {\n",
       "        text-align: right;\n",
       "    }\n",
       "</style>\n",
       "<table border=\"1\" class=\"dataframe\">\n",
       "  <thead>\n",
       "    <tr style=\"text-align: right;\">\n",
       "      <th></th>\n",
       "      <th>Unnamed: 0</th>\n",
       "      <th>Text</th>\n",
       "    </tr>\n",
       "  </thead>\n",
       "  <tbody>\n",
       "    <tr>\n",
       "      <th>0</th>\n",
       "      <td>1</td>\n",
       "      <td>@kunalb11 Iím an alien</td>\n",
       "    </tr>\n",
       "    <tr>\n",
       "      <th>1</th>\n",
       "      <td>2</td>\n",
       "      <td>@ID_AA_Carmack Ray tracing on Cyberpunk with H...</td>\n",
       "    </tr>\n",
       "    <tr>\n",
       "      <th>2</th>\n",
       "      <td>3</td>\n",
       "      <td>@joerogan @Spotify Great interview!</td>\n",
       "    </tr>\n",
       "    <tr>\n",
       "      <th>3</th>\n",
       "      <td>4</td>\n",
       "      <td>@gtera27 Doge is underestimated</td>\n",
       "    </tr>\n",
       "    <tr>\n",
       "      <th>4</th>\n",
       "      <td>5</td>\n",
       "      <td>@teslacn Congratulations Tesla China for amazi...</td>\n",
       "    </tr>\n",
       "    <tr>\n",
       "      <th>...</th>\n",
       "      <td>...</td>\n",
       "      <td>...</td>\n",
       "    </tr>\n",
       "    <tr>\n",
       "      <th>1994</th>\n",
       "      <td>1995</td>\n",
       "      <td>@flcnhvy True, it sounds so surreal, but the n...</td>\n",
       "    </tr>\n",
       "    <tr>\n",
       "      <th>1995</th>\n",
       "      <td>1996</td>\n",
       "      <td>@PPathole Make sure to read ur terms &amp;amp; con...</td>\n",
       "    </tr>\n",
       "    <tr>\n",
       "      <th>1996</th>\n",
       "      <td>1997</td>\n",
       "      <td>@TeslaGong @PPathole Samwise Gamgee</td>\n",
       "    </tr>\n",
       "    <tr>\n",
       "      <th>1997</th>\n",
       "      <td>1998</td>\n",
       "      <td>@PPathole Altho Dumb and Dumber is &lt;U+0001F525...</td>\n",
       "    </tr>\n",
       "    <tr>\n",
       "      <th>1998</th>\n",
       "      <td>1999</td>\n",
       "      <td>Progress update August 28</td>\n",
       "    </tr>\n",
       "  </tbody>\n",
       "</table>\n",
       "<p>1999 rows × 2 columns</p>\n",
       "</div>"
      ],
      "text/plain": [
       "      Unnamed: 0                                               Text\n",
       "0              1                             @kunalb11 Iím an alien\n",
       "1              2  @ID_AA_Carmack Ray tracing on Cyberpunk with H...\n",
       "2              3                @joerogan @Spotify Great interview!\n",
       "3              4                    @gtera27 Doge is underestimated\n",
       "4              5  @teslacn Congratulations Tesla China for amazi...\n",
       "...          ...                                                ...\n",
       "1994        1995  @flcnhvy True, it sounds so surreal, but the n...\n",
       "1995        1996  @PPathole Make sure to read ur terms &amp; con...\n",
       "1996        1997                @TeslaGong @PPathole Samwise Gamgee\n",
       "1997        1998  @PPathole Altho Dumb and Dumber is <U+0001F525...\n",
       "1998        1999                          Progress update August 28\n",
       "\n",
       "[1999 rows x 2 columns]"
      ]
     },
     "execution_count": 48,
     "metadata": {},
     "output_type": "execute_result"
    }
   ],
   "source": [
    "elon "
   ]
  },
  {
   "cell_type": "markdown",
   "id": "277afa28",
   "metadata": {},
   "source": [
    "here in the above data set the Text column consist of unwanted characteristics "
   ]
  },
  {
   "cell_type": "code",
   "execution_count": 49,
   "id": "1da1b154",
   "metadata": {
    "ExecuteTime": {
     "end_time": "2022-06-23T10:38:18.541316Z",
     "start_time": "2022-06-23T10:38:18.523323Z"
    }
   },
   "outputs": [
    {
     "data": {
      "text/plain": [
       "(1999, 2)"
      ]
     },
     "execution_count": 49,
     "metadata": {},
     "output_type": "execute_result"
    }
   ],
   "source": [
    "elon.shape"
   ]
  },
  {
   "cell_type": "code",
   "execution_count": 50,
   "id": "64e4abc1",
   "metadata": {
    "ExecuteTime": {
     "end_time": "2022-06-23T10:38:19.138590Z",
     "start_time": "2022-06-23T10:38:19.118641Z"
    }
   },
   "outputs": [
    {
     "name": "stdout",
     "output_type": "stream",
     "text": [
      "<class 'pandas.core.frame.DataFrame'>\n",
      "RangeIndex: 1999 entries, 0 to 1998\n",
      "Data columns (total 2 columns):\n",
      " #   Column      Non-Null Count  Dtype \n",
      "---  ------      --------------  ----- \n",
      " 0   Unnamed: 0  1999 non-null   int64 \n",
      " 1   Text        1999 non-null   object\n",
      "dtypes: int64(1), object(1)\n",
      "memory usage: 31.4+ KB\n"
     ]
    }
   ],
   "source": [
    "elon.info()"
   ]
  },
  {
   "cell_type": "markdown",
   "id": "29ac64d5",
   "metadata": {
    "ExecuteTime": {
     "end_time": "2022-06-23T10:38:19.970132Z",
     "start_time": "2022-06-23T10:38:19.952179Z"
    }
   },
   "source": [
    "# Except alphabetes all the unwanted characteristics are deleted  "
   ]
  },
  {
   "cell_type": "code",
   "execution_count": 52,
   "id": "93bda59d",
   "metadata": {
    "ExecuteTime": {
     "end_time": "2022-06-23T10:38:20.696985Z",
     "start_time": "2022-06-23T10:38:20.681026Z"
    }
   },
   "outputs": [],
   "source": [
    "elon.Text = elon.Text.apply(lambda x :re.sub('[^a-zA-Z ]',\"\",x))"
   ]
  },
  {
   "cell_type": "code",
   "execution_count": 53,
   "id": "bfa7102a",
   "metadata": {
    "ExecuteTime": {
     "end_time": "2022-06-23T10:38:21.486856Z",
     "start_time": "2022-06-23T10:38:21.467650Z"
    }
   },
   "outputs": [
    {
     "data": {
      "text/html": [
       "<div>\n",
       "<style scoped>\n",
       "    .dataframe tbody tr th:only-of-type {\n",
       "        vertical-align: middle;\n",
       "    }\n",
       "\n",
       "    .dataframe tbody tr th {\n",
       "        vertical-align: top;\n",
       "    }\n",
       "\n",
       "    .dataframe thead th {\n",
       "        text-align: right;\n",
       "    }\n",
       "</style>\n",
       "<table border=\"1\" class=\"dataframe\">\n",
       "  <thead>\n",
       "    <tr style=\"text-align: right;\">\n",
       "      <th></th>\n",
       "      <th>Unnamed: 0</th>\n",
       "      <th>Text</th>\n",
       "    </tr>\n",
       "  </thead>\n",
       "  <tbody>\n",
       "    <tr>\n",
       "      <th>0</th>\n",
       "      <td>1</td>\n",
       "      <td>kunalb Im an alien</td>\n",
       "    </tr>\n",
       "    <tr>\n",
       "      <th>1</th>\n",
       "      <td>2</td>\n",
       "      <td>IDAACarmack Ray tracing on Cyberpunk with HDR ...</td>\n",
       "    </tr>\n",
       "    <tr>\n",
       "      <th>2</th>\n",
       "      <td>3</td>\n",
       "      <td>joerogan Spotify Great interview</td>\n",
       "    </tr>\n",
       "    <tr>\n",
       "      <th>3</th>\n",
       "      <td>4</td>\n",
       "      <td>gtera Doge is underestimated</td>\n",
       "    </tr>\n",
       "    <tr>\n",
       "      <th>4</th>\n",
       "      <td>5</td>\n",
       "      <td>teslacn Congratulations Tesla China for amazin...</td>\n",
       "    </tr>\n",
       "    <tr>\n",
       "      <th>...</th>\n",
       "      <td>...</td>\n",
       "      <td>...</td>\n",
       "    </tr>\n",
       "    <tr>\n",
       "      <th>1994</th>\n",
       "      <td>1995</td>\n",
       "      <td>flcnhvy True it sounds so surreal but the nega...</td>\n",
       "    </tr>\n",
       "    <tr>\n",
       "      <th>1995</th>\n",
       "      <td>1996</td>\n",
       "      <td>PPathole Make sure to read ur terms amp condit...</td>\n",
       "    </tr>\n",
       "    <tr>\n",
       "      <th>1996</th>\n",
       "      <td>1997</td>\n",
       "      <td>TeslaGong PPathole Samwise Gamgee</td>\n",
       "    </tr>\n",
       "    <tr>\n",
       "      <th>1997</th>\n",
       "      <td>1998</td>\n",
       "      <td>PPathole Altho Dumb and Dumber is UFUF</td>\n",
       "    </tr>\n",
       "    <tr>\n",
       "      <th>1998</th>\n",
       "      <td>1999</td>\n",
       "      <td>Progress update August</td>\n",
       "    </tr>\n",
       "  </tbody>\n",
       "</table>\n",
       "<p>1999 rows × 2 columns</p>\n",
       "</div>"
      ],
      "text/plain": [
       "      Unnamed: 0                                               Text\n",
       "0              1                                 kunalb Im an alien\n",
       "1              2  IDAACarmack Ray tracing on Cyberpunk with HDR ...\n",
       "2              3                   joerogan Spotify Great interview\n",
       "3              4                       gtera Doge is underestimated\n",
       "4              5  teslacn Congratulations Tesla China for amazin...\n",
       "...          ...                                                ...\n",
       "1994        1995  flcnhvy True it sounds so surreal but the nega...\n",
       "1995        1996  PPathole Make sure to read ur terms amp condit...\n",
       "1996        1997                  TeslaGong PPathole Samwise Gamgee\n",
       "1997        1998             PPathole Altho Dumb and Dumber is UFUF\n",
       "1998        1999                            Progress update August \n",
       "\n",
       "[1999 rows x 2 columns]"
      ]
     },
     "execution_count": 53,
     "metadata": {},
     "output_type": "execute_result"
    }
   ],
   "source": [
    "elon"
   ]
  },
  {
   "cell_type": "markdown",
   "id": "ab50a272",
   "metadata": {},
   "source": [
    "after applying the re-->regular expression , the unwantad characteristics are deleated "
   ]
  },
  {
   "cell_type": "markdown",
   "id": "fe4fb371",
   "metadata": {
    "ExecuteTime": {
     "end_time": "2022-06-23T10:38:23.028132Z",
     "start_time": "2022-06-23T10:38:23.016215Z"
    }
   },
   "source": [
    "# converting the Text table into a lower case alphabets "
   ]
  },
  {
   "cell_type": "code",
   "execution_count": 55,
   "id": "767ac635",
   "metadata": {
    "ExecuteTime": {
     "end_time": "2022-06-23T10:38:23.375462Z",
     "start_time": "2022-06-23T10:38:23.358509Z"
    }
   },
   "outputs": [],
   "source": [
    "elon.Text = elon.Text.apply(lambda x: x.lower())"
   ]
  },
  {
   "cell_type": "code",
   "execution_count": 56,
   "id": "e1d0ea1e",
   "metadata": {
    "ExecuteTime": {
     "end_time": "2022-06-23T10:38:23.989731Z",
     "start_time": "2022-06-23T10:38:23.979758Z"
    }
   },
   "outputs": [
    {
     "data": {
      "text/html": [
       "<div>\n",
       "<style scoped>\n",
       "    .dataframe tbody tr th:only-of-type {\n",
       "        vertical-align: middle;\n",
       "    }\n",
       "\n",
       "    .dataframe tbody tr th {\n",
       "        vertical-align: top;\n",
       "    }\n",
       "\n",
       "    .dataframe thead th {\n",
       "        text-align: right;\n",
       "    }\n",
       "</style>\n",
       "<table border=\"1\" class=\"dataframe\">\n",
       "  <thead>\n",
       "    <tr style=\"text-align: right;\">\n",
       "      <th></th>\n",
       "      <th>Unnamed: 0</th>\n",
       "      <th>Text</th>\n",
       "    </tr>\n",
       "  </thead>\n",
       "  <tbody>\n",
       "    <tr>\n",
       "      <th>0</th>\n",
       "      <td>1</td>\n",
       "      <td>kunalb im an alien</td>\n",
       "    </tr>\n",
       "    <tr>\n",
       "      <th>1</th>\n",
       "      <td>2</td>\n",
       "      <td>idaacarmack ray tracing on cyberpunk with hdr ...</td>\n",
       "    </tr>\n",
       "    <tr>\n",
       "      <th>2</th>\n",
       "      <td>3</td>\n",
       "      <td>joerogan spotify great interview</td>\n",
       "    </tr>\n",
       "    <tr>\n",
       "      <th>3</th>\n",
       "      <td>4</td>\n",
       "      <td>gtera doge is underestimated</td>\n",
       "    </tr>\n",
       "    <tr>\n",
       "      <th>4</th>\n",
       "      <td>5</td>\n",
       "      <td>teslacn congratulations tesla china for amazin...</td>\n",
       "    </tr>\n",
       "    <tr>\n",
       "      <th>...</th>\n",
       "      <td>...</td>\n",
       "      <td>...</td>\n",
       "    </tr>\n",
       "    <tr>\n",
       "      <th>1994</th>\n",
       "      <td>1995</td>\n",
       "      <td>flcnhvy true it sounds so surreal but the nega...</td>\n",
       "    </tr>\n",
       "    <tr>\n",
       "      <th>1995</th>\n",
       "      <td>1996</td>\n",
       "      <td>ppathole make sure to read ur terms amp condit...</td>\n",
       "    </tr>\n",
       "    <tr>\n",
       "      <th>1996</th>\n",
       "      <td>1997</td>\n",
       "      <td>teslagong ppathole samwise gamgee</td>\n",
       "    </tr>\n",
       "    <tr>\n",
       "      <th>1997</th>\n",
       "      <td>1998</td>\n",
       "      <td>ppathole altho dumb and dumber is ufuf</td>\n",
       "    </tr>\n",
       "    <tr>\n",
       "      <th>1998</th>\n",
       "      <td>1999</td>\n",
       "      <td>progress update august</td>\n",
       "    </tr>\n",
       "  </tbody>\n",
       "</table>\n",
       "<p>1999 rows × 2 columns</p>\n",
       "</div>"
      ],
      "text/plain": [
       "      Unnamed: 0                                               Text\n",
       "0              1                                 kunalb im an alien\n",
       "1              2  idaacarmack ray tracing on cyberpunk with hdr ...\n",
       "2              3                   joerogan spotify great interview\n",
       "3              4                       gtera doge is underestimated\n",
       "4              5  teslacn congratulations tesla china for amazin...\n",
       "...          ...                                                ...\n",
       "1994        1995  flcnhvy true it sounds so surreal but the nega...\n",
       "1995        1996  ppathole make sure to read ur terms amp condit...\n",
       "1996        1997                  teslagong ppathole samwise gamgee\n",
       "1997        1998             ppathole altho dumb and dumber is ufuf\n",
       "1998        1999                            progress update august \n",
       "\n",
       "[1999 rows x 2 columns]"
      ]
     },
     "execution_count": 56,
     "metadata": {},
     "output_type": "execute_result"
    }
   ],
   "source": [
    "elon"
   ]
  },
  {
   "cell_type": "markdown",
   "id": "afcb126f",
   "metadata": {
    "ExecuteTime": {
     "end_time": "2022-06-23T10:38:24.613508Z",
     "start_time": "2022-06-23T10:38:24.605570Z"
    }
   },
   "source": [
    "# Stopwords "
   ]
  },
  {
   "cell_type": "code",
   "execution_count": 58,
   "id": "77c9e66d",
   "metadata": {
    "ExecuteTime": {
     "end_time": "2022-06-23T10:38:25.147581Z",
     "start_time": "2022-06-23T10:38:25.124619Z"
    }
   },
   "outputs": [
    {
     "name": "stderr",
     "output_type": "stream",
     "text": [
      "[nltk_data] Downloading package stopwords to\n",
      "[nltk_data]     C:\\Users\\Naveen\\AppData\\Roaming\\nltk_data...\n",
      "[nltk_data]   Package stopwords is already up-to-date!\n"
     ]
    }
   ],
   "source": [
    "import nltk \n",
    "nltk.download('stopwords')\n",
    "from nltk.corpus import stopwords\n",
    "from nltk.stem.porter import PorterStemmer"
   ]
  },
  {
   "cell_type": "markdown",
   "id": "09c5d27e",
   "metadata": {
    "ExecuteTime": {
     "end_time": "2022-06-23T10:38:25.619224Z",
     "start_time": "2022-06-23T10:38:25.611209Z"
    }
   },
   "source": [
    "# splitting the values"
   ]
  },
  {
   "cell_type": "code",
   "execution_count": 60,
   "id": "92a458a5",
   "metadata": {
    "ExecuteTime": {
     "end_time": "2022-06-23T10:38:26.085258Z",
     "start_time": "2022-06-23T10:38:26.062280Z"
    }
   },
   "outputs": [],
   "source": [
    "elon.Text = elon.Text.apply(lambda x : x.split())"
   ]
  },
  {
   "cell_type": "code",
   "execution_count": 61,
   "id": "08b97869",
   "metadata": {
    "ExecuteTime": {
     "end_time": "2022-06-23T10:38:26.680981Z",
     "start_time": "2022-06-23T10:38:26.658001Z"
    }
   },
   "outputs": [
    {
     "data": {
      "text/html": [
       "<div>\n",
       "<style scoped>\n",
       "    .dataframe tbody tr th:only-of-type {\n",
       "        vertical-align: middle;\n",
       "    }\n",
       "\n",
       "    .dataframe tbody tr th {\n",
       "        vertical-align: top;\n",
       "    }\n",
       "\n",
       "    .dataframe thead th {\n",
       "        text-align: right;\n",
       "    }\n",
       "</style>\n",
       "<table border=\"1\" class=\"dataframe\">\n",
       "  <thead>\n",
       "    <tr style=\"text-align: right;\">\n",
       "      <th></th>\n",
       "      <th>Unnamed: 0</th>\n",
       "      <th>Text</th>\n",
       "    </tr>\n",
       "  </thead>\n",
       "  <tbody>\n",
       "    <tr>\n",
       "      <th>0</th>\n",
       "      <td>1</td>\n",
       "      <td>[kunalb, im, an, alien]</td>\n",
       "    </tr>\n",
       "    <tr>\n",
       "      <th>1</th>\n",
       "      <td>2</td>\n",
       "      <td>[idaacarmack, ray, tracing, on, cyberpunk, wit...</td>\n",
       "    </tr>\n",
       "    <tr>\n",
       "      <th>2</th>\n",
       "      <td>3</td>\n",
       "      <td>[joerogan, spotify, great, interview]</td>\n",
       "    </tr>\n",
       "    <tr>\n",
       "      <th>3</th>\n",
       "      <td>4</td>\n",
       "      <td>[gtera, doge, is, underestimated]</td>\n",
       "    </tr>\n",
       "    <tr>\n",
       "      <th>4</th>\n",
       "      <td>5</td>\n",
       "      <td>[teslacn, congratulations, tesla, china, for, ...</td>\n",
       "    </tr>\n",
       "    <tr>\n",
       "      <th>...</th>\n",
       "      <td>...</td>\n",
       "      <td>...</td>\n",
       "    </tr>\n",
       "    <tr>\n",
       "      <th>1994</th>\n",
       "      <td>1995</td>\n",
       "      <td>[flcnhvy, true, it, sounds, so, surreal, but, ...</td>\n",
       "    </tr>\n",
       "    <tr>\n",
       "      <th>1995</th>\n",
       "      <td>1996</td>\n",
       "      <td>[ppathole, make, sure, to, read, ur, terms, am...</td>\n",
       "    </tr>\n",
       "    <tr>\n",
       "      <th>1996</th>\n",
       "      <td>1997</td>\n",
       "      <td>[teslagong, ppathole, samwise, gamgee]</td>\n",
       "    </tr>\n",
       "    <tr>\n",
       "      <th>1997</th>\n",
       "      <td>1998</td>\n",
       "      <td>[ppathole, altho, dumb, and, dumber, is, ufuf]</td>\n",
       "    </tr>\n",
       "    <tr>\n",
       "      <th>1998</th>\n",
       "      <td>1999</td>\n",
       "      <td>[progress, update, august]</td>\n",
       "    </tr>\n",
       "  </tbody>\n",
       "</table>\n",
       "<p>1999 rows × 2 columns</p>\n",
       "</div>"
      ],
      "text/plain": [
       "      Unnamed: 0                                               Text\n",
       "0              1                            [kunalb, im, an, alien]\n",
       "1              2  [idaacarmack, ray, tracing, on, cyberpunk, wit...\n",
       "2              3              [joerogan, spotify, great, interview]\n",
       "3              4                  [gtera, doge, is, underestimated]\n",
       "4              5  [teslacn, congratulations, tesla, china, for, ...\n",
       "...          ...                                                ...\n",
       "1994        1995  [flcnhvy, true, it, sounds, so, surreal, but, ...\n",
       "1995        1996  [ppathole, make, sure, to, read, ur, terms, am...\n",
       "1996        1997             [teslagong, ppathole, samwise, gamgee]\n",
       "1997        1998     [ppathole, altho, dumb, and, dumber, is, ufuf]\n",
       "1998        1999                         [progress, update, august]\n",
       "\n",
       "[1999 rows x 2 columns]"
      ]
     },
     "execution_count": 61,
     "metadata": {},
     "output_type": "execute_result"
    }
   ],
   "source": [
    "elon"
   ]
  },
  {
   "cell_type": "markdown",
   "id": "7ba6fb02",
   "metadata": {
    "ExecuteTime": {
     "end_time": "2022-06-23T10:38:27.151107Z",
     "start_time": "2022-06-23T10:38:27.139139Z"
    }
   },
   "source": [
    "# removing the stopwords"
   ]
  },
  {
   "cell_type": "code",
   "execution_count": 63,
   "id": "863114f6",
   "metadata": {
    "ExecuteTime": {
     "end_time": "2022-06-23T10:38:32.357244Z",
     "start_time": "2022-06-23T10:38:27.654497Z"
    }
   },
   "outputs": [],
   "source": [
    "elon.Text = elon.Text.apply(lambda x:[word for word in x if word not in set(stopwords.words('english'))])"
   ]
  },
  {
   "cell_type": "code",
   "execution_count": 64,
   "id": "6bc4df03",
   "metadata": {
    "ExecuteTime": {
     "end_time": "2022-06-23T10:38:32.372875Z",
     "start_time": "2022-06-23T10:38:32.358913Z"
    }
   },
   "outputs": [
    {
     "data": {
      "text/html": [
       "<div>\n",
       "<style scoped>\n",
       "    .dataframe tbody tr th:only-of-type {\n",
       "        vertical-align: middle;\n",
       "    }\n",
       "\n",
       "    .dataframe tbody tr th {\n",
       "        vertical-align: top;\n",
       "    }\n",
       "\n",
       "    .dataframe thead th {\n",
       "        text-align: right;\n",
       "    }\n",
       "</style>\n",
       "<table border=\"1\" class=\"dataframe\">\n",
       "  <thead>\n",
       "    <tr style=\"text-align: right;\">\n",
       "      <th></th>\n",
       "      <th>Unnamed: 0</th>\n",
       "      <th>Text</th>\n",
       "    </tr>\n",
       "  </thead>\n",
       "  <tbody>\n",
       "    <tr>\n",
       "      <th>0</th>\n",
       "      <td>1</td>\n",
       "      <td>[kunalb, im, alien]</td>\n",
       "    </tr>\n",
       "    <tr>\n",
       "      <th>1</th>\n",
       "      <td>2</td>\n",
       "      <td>[idaacarmack, ray, tracing, cyberpunk, hdr, ne...</td>\n",
       "    </tr>\n",
       "    <tr>\n",
       "      <th>2</th>\n",
       "      <td>3</td>\n",
       "      <td>[joerogan, spotify, great, interview]</td>\n",
       "    </tr>\n",
       "    <tr>\n",
       "      <th>3</th>\n",
       "      <td>4</td>\n",
       "      <td>[gtera, doge, underestimated]</td>\n",
       "    </tr>\n",
       "    <tr>\n",
       "      <th>4</th>\n",
       "      <td>5</td>\n",
       "      <td>[teslacn, congratulations, tesla, china, amazi...</td>\n",
       "    </tr>\n",
       "    <tr>\n",
       "      <th>...</th>\n",
       "      <td>...</td>\n",
       "      <td>...</td>\n",
       "    </tr>\n",
       "    <tr>\n",
       "      <th>1994</th>\n",
       "      <td>1995</td>\n",
       "      <td>[flcnhvy, true, sounds, surreal, negative, pro...</td>\n",
       "    </tr>\n",
       "    <tr>\n",
       "      <th>1995</th>\n",
       "      <td>1996</td>\n",
       "      <td>[ppathole, make, sure, read, ur, terms, amp, c...</td>\n",
       "    </tr>\n",
       "    <tr>\n",
       "      <th>1996</th>\n",
       "      <td>1997</td>\n",
       "      <td>[teslagong, ppathole, samwise, gamgee]</td>\n",
       "    </tr>\n",
       "    <tr>\n",
       "      <th>1997</th>\n",
       "      <td>1998</td>\n",
       "      <td>[ppathole, altho, dumb, dumber, ufuf]</td>\n",
       "    </tr>\n",
       "    <tr>\n",
       "      <th>1998</th>\n",
       "      <td>1999</td>\n",
       "      <td>[progress, update, august]</td>\n",
       "    </tr>\n",
       "  </tbody>\n",
       "</table>\n",
       "<p>1999 rows × 2 columns</p>\n",
       "</div>"
      ],
      "text/plain": [
       "      Unnamed: 0                                               Text\n",
       "0              1                                [kunalb, im, alien]\n",
       "1              2  [idaacarmack, ray, tracing, cyberpunk, hdr, ne...\n",
       "2              3              [joerogan, spotify, great, interview]\n",
       "3              4                      [gtera, doge, underestimated]\n",
       "4              5  [teslacn, congratulations, tesla, china, amazi...\n",
       "...          ...                                                ...\n",
       "1994        1995  [flcnhvy, true, sounds, surreal, negative, pro...\n",
       "1995        1996  [ppathole, make, sure, read, ur, terms, amp, c...\n",
       "1996        1997             [teslagong, ppathole, samwise, gamgee]\n",
       "1997        1998              [ppathole, altho, dumb, dumber, ufuf]\n",
       "1998        1999                         [progress, update, august]\n",
       "\n",
       "[1999 rows x 2 columns]"
      ]
     },
     "execution_count": 64,
     "metadata": {},
     "output_type": "execute_result"
    }
   ],
   "source": [
    "elon"
   ]
  },
  {
   "cell_type": "markdown",
   "id": "67ec07ed",
   "metadata": {},
   "source": [
    "the stop words are removed"
   ]
  },
  {
   "cell_type": "code",
   "execution_count": 65,
   "id": "81797120",
   "metadata": {
    "ExecuteTime": {
     "end_time": "2022-06-23T10:38:35.048013Z",
     "start_time": "2022-06-23T10:38:35.039038Z"
    }
   },
   "outputs": [],
   "source": [
    "#applying the Stemmer method \n",
    "ps = PorterStemmer()"
   ]
  },
  {
   "cell_type": "code",
   "execution_count": 66,
   "id": "a18b539d",
   "metadata": {
    "ExecuteTime": {
     "end_time": "2022-06-23T10:38:36.609646Z",
     "start_time": "2022-06-23T10:38:36.331589Z"
    }
   },
   "outputs": [],
   "source": [
    "elon.Text = elon.Text.apply(lambda x: [ps.stem(word) for word in x])"
   ]
  },
  {
   "cell_type": "code",
   "execution_count": 67,
   "id": "11d37ba8",
   "metadata": {
    "ExecuteTime": {
     "end_time": "2022-06-23T10:38:37.472900Z",
     "start_time": "2022-06-23T10:38:37.457941Z"
    }
   },
   "outputs": [
    {
     "data": {
      "text/html": [
       "<div>\n",
       "<style scoped>\n",
       "    .dataframe tbody tr th:only-of-type {\n",
       "        vertical-align: middle;\n",
       "    }\n",
       "\n",
       "    .dataframe tbody tr th {\n",
       "        vertical-align: top;\n",
       "    }\n",
       "\n",
       "    .dataframe thead th {\n",
       "        text-align: right;\n",
       "    }\n",
       "</style>\n",
       "<table border=\"1\" class=\"dataframe\">\n",
       "  <thead>\n",
       "    <tr style=\"text-align: right;\">\n",
       "      <th></th>\n",
       "      <th>Unnamed: 0</th>\n",
       "      <th>Text</th>\n",
       "    </tr>\n",
       "  </thead>\n",
       "  <tbody>\n",
       "    <tr>\n",
       "      <th>0</th>\n",
       "      <td>1</td>\n",
       "      <td>[kunalb, im, alien]</td>\n",
       "    </tr>\n",
       "    <tr>\n",
       "      <th>1</th>\n",
       "      <td>2</td>\n",
       "      <td>[idaacarmack, ray, trace, cyberpunk, hdr, next...</td>\n",
       "    </tr>\n",
       "    <tr>\n",
       "      <th>2</th>\n",
       "      <td>3</td>\n",
       "      <td>[joerogan, spotifi, great, interview]</td>\n",
       "    </tr>\n",
       "    <tr>\n",
       "      <th>3</th>\n",
       "      <td>4</td>\n",
       "      <td>[gtera, doge, underestim]</td>\n",
       "    </tr>\n",
       "    <tr>\n",
       "      <th>4</th>\n",
       "      <td>5</td>\n",
       "      <td>[teslacn, congratul, tesla, china, amaz, execu...</td>\n",
       "    </tr>\n",
       "    <tr>\n",
       "      <th>...</th>\n",
       "      <td>...</td>\n",
       "      <td>...</td>\n",
       "    </tr>\n",
       "    <tr>\n",
       "      <th>1994</th>\n",
       "      <td>1995</td>\n",
       "      <td>[flcnhvi, true, sound, surreal, neg, propagand...</td>\n",
       "    </tr>\n",
       "    <tr>\n",
       "      <th>1995</th>\n",
       "      <td>1996</td>\n",
       "      <td>[ppathol, make, sure, read, ur, term, amp, con...</td>\n",
       "    </tr>\n",
       "    <tr>\n",
       "      <th>1996</th>\n",
       "      <td>1997</td>\n",
       "      <td>[teslagong, ppathol, samwis, gamge]</td>\n",
       "    </tr>\n",
       "    <tr>\n",
       "      <th>1997</th>\n",
       "      <td>1998</td>\n",
       "      <td>[ppathol, altho, dumb, dumber, ufuf]</td>\n",
       "    </tr>\n",
       "    <tr>\n",
       "      <th>1998</th>\n",
       "      <td>1999</td>\n",
       "      <td>[progress, updat, august]</td>\n",
       "    </tr>\n",
       "  </tbody>\n",
       "</table>\n",
       "<p>1999 rows × 2 columns</p>\n",
       "</div>"
      ],
      "text/plain": [
       "      Unnamed: 0                                               Text\n",
       "0              1                                [kunalb, im, alien]\n",
       "1              2  [idaacarmack, ray, trace, cyberpunk, hdr, next...\n",
       "2              3              [joerogan, spotifi, great, interview]\n",
       "3              4                          [gtera, doge, underestim]\n",
       "4              5  [teslacn, congratul, tesla, china, amaz, execu...\n",
       "...          ...                                                ...\n",
       "1994        1995  [flcnhvi, true, sound, surreal, neg, propagand...\n",
       "1995        1996  [ppathol, make, sure, read, ur, term, amp, con...\n",
       "1996        1997                [teslagong, ppathol, samwis, gamge]\n",
       "1997        1998               [ppathol, altho, dumb, dumber, ufuf]\n",
       "1998        1999                          [progress, updat, august]\n",
       "\n",
       "[1999 rows x 2 columns]"
      ]
     },
     "execution_count": 67,
     "metadata": {},
     "output_type": "execute_result"
    }
   ],
   "source": [
    "elon"
   ]
  },
  {
   "cell_type": "markdown",
   "id": "4e3d20e0",
   "metadata": {},
   "source": [
    "when we apply the porter stemmer -->it will chop all the end alphabets and replace them by words according to theie process "
   ]
  },
  {
   "cell_type": "markdown",
   "id": "89a314f0",
   "metadata": {
    "ExecuteTime": {
     "end_time": "2022-06-23T10:38:38.924738Z",
     "start_time": "2022-06-23T10:38:38.906747Z"
    }
   },
   "source": [
    "# joining the seperated sentences"
   ]
  },
  {
   "cell_type": "code",
   "execution_count": 69,
   "id": "02631002",
   "metadata": {
    "ExecuteTime": {
     "end_time": "2022-06-23T10:38:39.398432Z",
     "start_time": "2022-06-23T10:38:39.385469Z"
    }
   },
   "outputs": [],
   "source": [
    "elon.Text = elon.Text.apply(lambda x :\" \".join(x))"
   ]
  },
  {
   "cell_type": "code",
   "execution_count": 70,
   "id": "dffa61c6",
   "metadata": {
    "ExecuteTime": {
     "end_time": "2022-06-23T10:38:39.977272Z",
     "start_time": "2022-06-23T10:38:39.958325Z"
    }
   },
   "outputs": [
    {
     "data": {
      "text/html": [
       "<div>\n",
       "<style scoped>\n",
       "    .dataframe tbody tr th:only-of-type {\n",
       "        vertical-align: middle;\n",
       "    }\n",
       "\n",
       "    .dataframe tbody tr th {\n",
       "        vertical-align: top;\n",
       "    }\n",
       "\n",
       "    .dataframe thead th {\n",
       "        text-align: right;\n",
       "    }\n",
       "</style>\n",
       "<table border=\"1\" class=\"dataframe\">\n",
       "  <thead>\n",
       "    <tr style=\"text-align: right;\">\n",
       "      <th></th>\n",
       "      <th>Unnamed: 0</th>\n",
       "      <th>Text</th>\n",
       "    </tr>\n",
       "  </thead>\n",
       "  <tbody>\n",
       "    <tr>\n",
       "      <th>0</th>\n",
       "      <td>1</td>\n",
       "      <td>kunalb im alien</td>\n",
       "    </tr>\n",
       "    <tr>\n",
       "      <th>1</th>\n",
       "      <td>2</td>\n",
       "      <td>idaacarmack ray trace cyberpunk hdr nextlevel tri</td>\n",
       "    </tr>\n",
       "    <tr>\n",
       "      <th>2</th>\n",
       "      <td>3</td>\n",
       "      <td>joerogan spotifi great interview</td>\n",
       "    </tr>\n",
       "    <tr>\n",
       "      <th>3</th>\n",
       "      <td>4</td>\n",
       "      <td>gtera doge underestim</td>\n",
       "    </tr>\n",
       "    <tr>\n",
       "      <th>4</th>\n",
       "      <td>5</td>\n",
       "      <td>teslacn congratul tesla china amaz execut last...</td>\n",
       "    </tr>\n",
       "    <tr>\n",
       "      <th>...</th>\n",
       "      <td>...</td>\n",
       "      <td>...</td>\n",
       "    </tr>\n",
       "    <tr>\n",
       "      <th>1994</th>\n",
       "      <td>1995</td>\n",
       "      <td>flcnhvi true sound surreal neg propaganda stil...</td>\n",
       "    </tr>\n",
       "    <tr>\n",
       "      <th>1995</th>\n",
       "      <td>1996</td>\n",
       "      <td>ppathol make sure read ur term amp condit clic...</td>\n",
       "    </tr>\n",
       "    <tr>\n",
       "      <th>1996</th>\n",
       "      <td>1997</td>\n",
       "      <td>teslagong ppathol samwis gamge</td>\n",
       "    </tr>\n",
       "    <tr>\n",
       "      <th>1997</th>\n",
       "      <td>1998</td>\n",
       "      <td>ppathol altho dumb dumber ufuf</td>\n",
       "    </tr>\n",
       "    <tr>\n",
       "      <th>1998</th>\n",
       "      <td>1999</td>\n",
       "      <td>progress updat august</td>\n",
       "    </tr>\n",
       "  </tbody>\n",
       "</table>\n",
       "<p>1999 rows × 2 columns</p>\n",
       "</div>"
      ],
      "text/plain": [
       "      Unnamed: 0                                               Text\n",
       "0              1                                    kunalb im alien\n",
       "1              2  idaacarmack ray trace cyberpunk hdr nextlevel tri\n",
       "2              3                   joerogan spotifi great interview\n",
       "3              4                              gtera doge underestim\n",
       "4              5  teslacn congratul tesla china amaz execut last...\n",
       "...          ...                                                ...\n",
       "1994        1995  flcnhvi true sound surreal neg propaganda stil...\n",
       "1995        1996  ppathol make sure read ur term amp condit clic...\n",
       "1996        1997                     teslagong ppathol samwis gamge\n",
       "1997        1998                     ppathol altho dumb dumber ufuf\n",
       "1998        1999                              progress updat august\n",
       "\n",
       "[1999 rows x 2 columns]"
      ]
     },
     "execution_count": 70,
     "metadata": {},
     "output_type": "execute_result"
    }
   ],
   "source": [
    "elon"
   ]
  },
  {
   "cell_type": "markdown",
   "id": "979f02ce",
   "metadata": {
    "ExecuteTime": {
     "end_time": "2022-06-23T10:38:40.510800Z",
     "start_time": "2022-06-23T10:38:40.502787Z"
    }
   },
   "source": [
    "# SINGLE step for all the above process "
   ]
  },
  {
   "cell_type": "code",
   "execution_count": 72,
   "id": "3a41e2cb",
   "metadata": {
    "ExecuteTime": {
     "end_time": "2022-06-23T10:38:41.108221Z",
     "start_time": "2022-06-23T10:38:41.087278Z"
    }
   },
   "outputs": [],
   "source": [
    "elon1 = pd.read_csv(\"Elon_musk.csv\",encoding='cp1252')"
   ]
  },
  {
   "cell_type": "code",
   "execution_count": 73,
   "id": "29d80d6a",
   "metadata": {
    "ExecuteTime": {
     "end_time": "2022-06-23T10:38:41.757647Z",
     "start_time": "2022-06-23T10:38:41.748673Z"
    }
   },
   "outputs": [],
   "source": [
    "def preprocess(x):\n",
    "    x=re.sub('[^a-zA-Z ]',\"\",x)\n",
    "    x=x.lower()\n",
    "    x=x.split()\n",
    "    x=[word for word in x if word not in set(stopwords.words('english'))]\n",
    "    x=[ps.stem(word) for word in x]\n",
    "    x=\" \".join(x)\n",
    "    return x "
   ]
  },
  {
   "cell_type": "code",
   "execution_count": 74,
   "id": "5440b488",
   "metadata": {
    "ExecuteTime": {
     "end_time": "2022-06-23T10:38:48.960853Z",
     "start_time": "2022-06-23T10:38:43.847817Z"
    }
   },
   "outputs": [],
   "source": [
    "elon1.Text =elon1['Text'].apply(preprocess)"
   ]
  },
  {
   "cell_type": "code",
   "execution_count": 75,
   "id": "8638ad1f",
   "metadata": {
    "ExecuteTime": {
     "end_time": "2022-06-23T10:38:48.976883Z",
     "start_time": "2022-06-23T10:38:48.962920Z"
    }
   },
   "outputs": [
    {
     "data": {
      "text/html": [
       "<div>\n",
       "<style scoped>\n",
       "    .dataframe tbody tr th:only-of-type {\n",
       "        vertical-align: middle;\n",
       "    }\n",
       "\n",
       "    .dataframe tbody tr th {\n",
       "        vertical-align: top;\n",
       "    }\n",
       "\n",
       "    .dataframe thead th {\n",
       "        text-align: right;\n",
       "    }\n",
       "</style>\n",
       "<table border=\"1\" class=\"dataframe\">\n",
       "  <thead>\n",
       "    <tr style=\"text-align: right;\">\n",
       "      <th></th>\n",
       "      <th>Unnamed: 0</th>\n",
       "      <th>Text</th>\n",
       "    </tr>\n",
       "  </thead>\n",
       "  <tbody>\n",
       "    <tr>\n",
       "      <th>0</th>\n",
       "      <td>1</td>\n",
       "      <td>kunalb im alien</td>\n",
       "    </tr>\n",
       "    <tr>\n",
       "      <th>1</th>\n",
       "      <td>2</td>\n",
       "      <td>idaacarmack ray trace cyberpunk hdr nextlevel tri</td>\n",
       "    </tr>\n",
       "    <tr>\n",
       "      <th>2</th>\n",
       "      <td>3</td>\n",
       "      <td>joerogan spotifi great interview</td>\n",
       "    </tr>\n",
       "    <tr>\n",
       "      <th>3</th>\n",
       "      <td>4</td>\n",
       "      <td>gtera doge underestim</td>\n",
       "    </tr>\n",
       "    <tr>\n",
       "      <th>4</th>\n",
       "      <td>5</td>\n",
       "      <td>teslacn congratul tesla china amaz execut last...</td>\n",
       "    </tr>\n",
       "    <tr>\n",
       "      <th>...</th>\n",
       "      <td>...</td>\n",
       "      <td>...</td>\n",
       "    </tr>\n",
       "    <tr>\n",
       "      <th>1994</th>\n",
       "      <td>1995</td>\n",
       "      <td>flcnhvi true sound surreal neg propaganda stil...</td>\n",
       "    </tr>\n",
       "    <tr>\n",
       "      <th>1995</th>\n",
       "      <td>1996</td>\n",
       "      <td>ppathol make sure read ur term amp condit clic...</td>\n",
       "    </tr>\n",
       "    <tr>\n",
       "      <th>1996</th>\n",
       "      <td>1997</td>\n",
       "      <td>teslagong ppathol samwis gamge</td>\n",
       "    </tr>\n",
       "    <tr>\n",
       "      <th>1997</th>\n",
       "      <td>1998</td>\n",
       "      <td>ppathol altho dumb dumber ufuf</td>\n",
       "    </tr>\n",
       "    <tr>\n",
       "      <th>1998</th>\n",
       "      <td>1999</td>\n",
       "      <td>progress updat august</td>\n",
       "    </tr>\n",
       "  </tbody>\n",
       "</table>\n",
       "<p>1999 rows × 2 columns</p>\n",
       "</div>"
      ],
      "text/plain": [
       "      Unnamed: 0                                               Text\n",
       "0              1                                    kunalb im alien\n",
       "1              2  idaacarmack ray trace cyberpunk hdr nextlevel tri\n",
       "2              3                   joerogan spotifi great interview\n",
       "3              4                              gtera doge underestim\n",
       "4              5  teslacn congratul tesla china amaz execut last...\n",
       "...          ...                                                ...\n",
       "1994        1995  flcnhvi true sound surreal neg propaganda stil...\n",
       "1995        1996  ppathol make sure read ur term amp condit clic...\n",
       "1996        1997                     teslagong ppathol samwis gamge\n",
       "1997        1998                     ppathol altho dumb dumber ufuf\n",
       "1998        1999                              progress updat august\n",
       "\n",
       "[1999 rows x 2 columns]"
      ]
     },
     "execution_count": 75,
     "metadata": {},
     "output_type": "execute_result"
    }
   ],
   "source": [
    "elon1"
   ]
  },
  {
   "cell_type": "code",
   "execution_count": 76,
   "id": "5ceae07b",
   "metadata": {
    "ExecuteTime": {
     "end_time": "2022-06-23T10:38:56.823676Z",
     "start_time": "2022-06-23T10:38:56.807776Z"
    }
   },
   "outputs": [
    {
     "data": {
      "text/html": [
       "<div>\n",
       "<style scoped>\n",
       "    .dataframe tbody tr th:only-of-type {\n",
       "        vertical-align: middle;\n",
       "    }\n",
       "\n",
       "    .dataframe tbody tr th {\n",
       "        vertical-align: top;\n",
       "    }\n",
       "\n",
       "    .dataframe thead th {\n",
       "        text-align: right;\n",
       "    }\n",
       "</style>\n",
       "<table border=\"1\" class=\"dataframe\">\n",
       "  <thead>\n",
       "    <tr style=\"text-align: right;\">\n",
       "      <th></th>\n",
       "      <th>Unnamed: 0</th>\n",
       "      <th>Text</th>\n",
       "    </tr>\n",
       "  </thead>\n",
       "  <tbody>\n",
       "    <tr>\n",
       "      <th>0</th>\n",
       "      <td>1</td>\n",
       "      <td>kunalb im alien</td>\n",
       "    </tr>\n",
       "    <tr>\n",
       "      <th>1</th>\n",
       "      <td>2</td>\n",
       "      <td>idaacarmack ray trace cyberpunk hdr nextlevel tri</td>\n",
       "    </tr>\n",
       "    <tr>\n",
       "      <th>2</th>\n",
       "      <td>3</td>\n",
       "      <td>joerogan spotifi great interview</td>\n",
       "    </tr>\n",
       "    <tr>\n",
       "      <th>3</th>\n",
       "      <td>4</td>\n",
       "      <td>gtera doge underestim</td>\n",
       "    </tr>\n",
       "    <tr>\n",
       "      <th>4</th>\n",
       "      <td>5</td>\n",
       "      <td>teslacn congratul tesla china amaz execut last...</td>\n",
       "    </tr>\n",
       "    <tr>\n",
       "      <th>...</th>\n",
       "      <td>...</td>\n",
       "      <td>...</td>\n",
       "    </tr>\n",
       "    <tr>\n",
       "      <th>1994</th>\n",
       "      <td>1995</td>\n",
       "      <td>flcnhvi true sound surreal neg propaganda stil...</td>\n",
       "    </tr>\n",
       "    <tr>\n",
       "      <th>1995</th>\n",
       "      <td>1996</td>\n",
       "      <td>ppathol make sure read ur term amp condit clic...</td>\n",
       "    </tr>\n",
       "    <tr>\n",
       "      <th>1996</th>\n",
       "      <td>1997</td>\n",
       "      <td>teslagong ppathol samwis gamge</td>\n",
       "    </tr>\n",
       "    <tr>\n",
       "      <th>1997</th>\n",
       "      <td>1998</td>\n",
       "      <td>ppathol altho dumb dumber ufuf</td>\n",
       "    </tr>\n",
       "    <tr>\n",
       "      <th>1998</th>\n",
       "      <td>1999</td>\n",
       "      <td>progress updat august</td>\n",
       "    </tr>\n",
       "  </tbody>\n",
       "</table>\n",
       "<p>1999 rows × 2 columns</p>\n",
       "</div>"
      ],
      "text/plain": [
       "      Unnamed: 0                                               Text\n",
       "0              1                                    kunalb im alien\n",
       "1              2  idaacarmack ray trace cyberpunk hdr nextlevel tri\n",
       "2              3                   joerogan spotifi great interview\n",
       "3              4                              gtera doge underestim\n",
       "4              5  teslacn congratul tesla china amaz execut last...\n",
       "...          ...                                                ...\n",
       "1994        1995  flcnhvi true sound surreal neg propaganda stil...\n",
       "1995        1996  ppathol make sure read ur term amp condit clic...\n",
       "1996        1997                     teslagong ppathol samwis gamge\n",
       "1997        1998                     ppathol altho dumb dumber ufuf\n",
       "1998        1999                              progress updat august\n",
       "\n",
       "[1999 rows x 2 columns]"
      ]
     },
     "execution_count": 76,
     "metadata": {},
     "output_type": "execute_result"
    }
   ],
   "source": [
    "elon"
   ]
  },
  {
   "cell_type": "code",
   "execution_count": null,
   "id": "8082da65",
   "metadata": {},
   "outputs": [],
   "source": []
  }
 ],
 "metadata": {
  "kernelspec": {
   "display_name": "Python 3 (ipykernel)",
   "language": "python",
   "name": "python3"
  },
  "language_info": {
   "codemirror_mode": {
    "name": "ipython",
    "version": 3
   },
   "file_extension": ".py",
   "mimetype": "text/x-python",
   "name": "python",
   "nbconvert_exporter": "python",
   "pygments_lexer": "ipython3",
   "version": "3.9.12"
  }
 },
 "nbformat": 4,
 "nbformat_minor": 5
}
