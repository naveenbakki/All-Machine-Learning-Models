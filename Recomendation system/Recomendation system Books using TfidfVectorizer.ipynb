{
 "cells": [
  {
   "cell_type": "code",
   "execution_count": 66,
   "id": "f1059f37",
   "metadata": {
    "ExecuteTime": {
     "end_time": "2022-06-14T13:32:52.650946Z",
     "start_time": "2022-06-14T13:32:52.605072Z"
    }
   },
   "outputs": [],
   "source": [
    "import pandas as pd \n",
    "import numpy as np \n",
    "import matplotlib.pyplot as plt"
   ]
  },
  {
   "cell_type": "code",
   "execution_count": 67,
   "id": "a0426585",
   "metadata": {
    "ExecuteTime": {
     "end_time": "2022-06-14T13:32:52.806394Z",
     "start_time": "2022-06-14T13:32:52.660921Z"
    }
   },
   "outputs": [],
   "source": [
    "books = pd.read_csv('book.csv',encoding='latin1',index_col=0)"
   ]
  },
  {
   "cell_type": "code",
   "execution_count": 68,
   "id": "65e0d66a",
   "metadata": {
    "ExecuteTime": {
     "end_time": "2022-06-14T13:32:52.835912Z",
     "start_time": "2022-06-14T13:32:52.808088Z"
    }
   },
   "outputs": [
    {
     "data": {
      "text/html": [
       "<div>\n",
       "<style scoped>\n",
       "    .dataframe tbody tr th:only-of-type {\n",
       "        vertical-align: middle;\n",
       "    }\n",
       "\n",
       "    .dataframe tbody tr th {\n",
       "        vertical-align: top;\n",
       "    }\n",
       "\n",
       "    .dataframe thead th {\n",
       "        text-align: right;\n",
       "    }\n",
       "</style>\n",
       "<table border=\"1\" class=\"dataframe\">\n",
       "  <thead>\n",
       "    <tr style=\"text-align: right;\">\n",
       "      <th></th>\n",
       "      <th>User.ID</th>\n",
       "      <th>Book.Title</th>\n",
       "      <th>Book.Rating</th>\n",
       "    </tr>\n",
       "  </thead>\n",
       "  <tbody>\n",
       "    <tr>\n",
       "      <th>1</th>\n",
       "      <td>276726</td>\n",
       "      <td>Classical Mythology</td>\n",
       "      <td>5</td>\n",
       "    </tr>\n",
       "    <tr>\n",
       "      <th>2</th>\n",
       "      <td>276729</td>\n",
       "      <td>Clara Callan</td>\n",
       "      <td>3</td>\n",
       "    </tr>\n",
       "    <tr>\n",
       "      <th>3</th>\n",
       "      <td>276729</td>\n",
       "      <td>Decision in Normandy</td>\n",
       "      <td>6</td>\n",
       "    </tr>\n",
       "    <tr>\n",
       "      <th>4</th>\n",
       "      <td>276736</td>\n",
       "      <td>Flu: The Story of the Great Influenza Pandemic...</td>\n",
       "      <td>8</td>\n",
       "    </tr>\n",
       "    <tr>\n",
       "      <th>5</th>\n",
       "      <td>276737</td>\n",
       "      <td>The Mummies of Urumchi</td>\n",
       "      <td>6</td>\n",
       "    </tr>\n",
       "  </tbody>\n",
       "</table>\n",
       "</div>"
      ],
      "text/plain": [
       "   User.ID                                         Book.Title  Book.Rating\n",
       "1   276726                                Classical Mythology            5\n",
       "2   276729                                       Clara Callan            3\n",
       "3   276729                               Decision in Normandy            6\n",
       "4   276736  Flu: The Story of the Great Influenza Pandemic...            8\n",
       "5   276737                             The Mummies of Urumchi            6"
      ]
     },
     "execution_count": 68,
     "metadata": {},
     "output_type": "execute_result"
    }
   ],
   "source": [
    "books.head()"
   ]
  },
  {
   "cell_type": "code",
   "execution_count": 69,
   "id": "2ae8f38e",
   "metadata": {
    "ExecuteTime": {
     "end_time": "2022-06-14T13:32:52.866248Z",
     "start_time": "2022-06-14T13:32:52.838904Z"
    }
   },
   "outputs": [
    {
     "data": {
      "text/html": [
       "<div>\n",
       "<style scoped>\n",
       "    .dataframe tbody tr th:only-of-type {\n",
       "        vertical-align: middle;\n",
       "    }\n",
       "\n",
       "    .dataframe tbody tr th {\n",
       "        vertical-align: top;\n",
       "    }\n",
       "\n",
       "    .dataframe thead th {\n",
       "        text-align: right;\n",
       "    }\n",
       "</style>\n",
       "<table border=\"1\" class=\"dataframe\">\n",
       "  <thead>\n",
       "    <tr style=\"text-align: right;\">\n",
       "      <th></th>\n",
       "      <th>User.ID</th>\n",
       "      <th>Book.Title</th>\n",
       "      <th>Book.Rating</th>\n",
       "    </tr>\n",
       "  </thead>\n",
       "  <tbody>\n",
       "    <tr>\n",
       "      <th>3233</th>\n",
       "      <td>712</td>\n",
       "      <td>Unless : A Novel</td>\n",
       "      <td>5</td>\n",
       "    </tr>\n",
       "    <tr>\n",
       "      <th>1732</th>\n",
       "      <td>278209</td>\n",
       "      <td>Senza Sangue</td>\n",
       "      <td>8</td>\n",
       "    </tr>\n",
       "    <tr>\n",
       "      <th>5468</th>\n",
       "      <td>2358</td>\n",
       "      <td>If the Buddha Dated: A Handbook for Finding Lo...</td>\n",
       "      <td>7</td>\n",
       "    </tr>\n",
       "    <tr>\n",
       "      <th>1791</th>\n",
       "      <td>278255</td>\n",
       "      <td>The Syndrome : A Thriller</td>\n",
       "      <td>4</td>\n",
       "    </tr>\n",
       "    <tr>\n",
       "      <th>4363</th>\n",
       "      <td>1733</td>\n",
       "      <td>Delta Style: Eve Wasn't a Size 6 and Neither Am I</td>\n",
       "      <td>9</td>\n",
       "    </tr>\n",
       "  </tbody>\n",
       "</table>\n",
       "</div>"
      ],
      "text/plain": [
       "      User.ID                                         Book.Title  Book.Rating\n",
       "3233      712                                   Unless : A Novel            5\n",
       "1732   278209                                       Senza Sangue            8\n",
       "5468     2358  If the Buddha Dated: A Handbook for Finding Lo...            7\n",
       "1791   278255                          The Syndrome : A Thriller            4\n",
       "4363     1733  Delta Style: Eve Wasn't a Size 6 and Neither Am I            9"
      ]
     },
     "execution_count": 69,
     "metadata": {},
     "output_type": "execute_result"
    }
   ],
   "source": [
    "books.sample(5)"
   ]
  },
  {
   "cell_type": "code",
   "execution_count": 70,
   "id": "fd169c41",
   "metadata": {
    "ExecuteTime": {
     "end_time": "2022-06-14T13:32:52.882254Z",
     "start_time": "2022-06-14T13:32:52.868246Z"
    }
   },
   "outputs": [
    {
     "data": {
      "text/plain": [
       "(10000, 3)"
      ]
     },
     "execution_count": 70,
     "metadata": {},
     "output_type": "execute_result"
    }
   ],
   "source": [
    "books.shape"
   ]
  },
  {
   "cell_type": "code",
   "execution_count": 71,
   "id": "4e314b1c",
   "metadata": {
    "ExecuteTime": {
     "end_time": "2022-06-14T13:32:52.897211Z",
     "start_time": "2022-06-14T13:32:52.884203Z"
    }
   },
   "outputs": [],
   "source": [
    "#renaming the columns\n",
    "books1=books.rename({'User.ID':'userid','Book.Title':'title','Book.Rating':'rating'},axis=1)"
   ]
  },
  {
   "cell_type": "code",
   "execution_count": 72,
   "id": "e5130a29",
   "metadata": {
    "ExecuteTime": {
     "end_time": "2022-06-14T13:32:52.913129Z",
     "start_time": "2022-06-14T13:32:52.900161Z"
    }
   },
   "outputs": [
    {
     "data": {
      "text/html": [
       "<div>\n",
       "<style scoped>\n",
       "    .dataframe tbody tr th:only-of-type {\n",
       "        vertical-align: middle;\n",
       "    }\n",
       "\n",
       "    .dataframe tbody tr th {\n",
       "        vertical-align: top;\n",
       "    }\n",
       "\n",
       "    .dataframe thead th {\n",
       "        text-align: right;\n",
       "    }\n",
       "</style>\n",
       "<table border=\"1\" class=\"dataframe\">\n",
       "  <thead>\n",
       "    <tr style=\"text-align: right;\">\n",
       "      <th></th>\n",
       "      <th>userid</th>\n",
       "      <th>title</th>\n",
       "      <th>rating</th>\n",
       "    </tr>\n",
       "  </thead>\n",
       "  <tbody>\n",
       "    <tr>\n",
       "      <th>1</th>\n",
       "      <td>276726</td>\n",
       "      <td>Classical Mythology</td>\n",
       "      <td>5</td>\n",
       "    </tr>\n",
       "    <tr>\n",
       "      <th>2</th>\n",
       "      <td>276729</td>\n",
       "      <td>Clara Callan</td>\n",
       "      <td>3</td>\n",
       "    </tr>\n",
       "    <tr>\n",
       "      <th>3</th>\n",
       "      <td>276729</td>\n",
       "      <td>Decision in Normandy</td>\n",
       "      <td>6</td>\n",
       "    </tr>\n",
       "    <tr>\n",
       "      <th>4</th>\n",
       "      <td>276736</td>\n",
       "      <td>Flu: The Story of the Great Influenza Pandemic...</td>\n",
       "      <td>8</td>\n",
       "    </tr>\n",
       "    <tr>\n",
       "      <th>5</th>\n",
       "      <td>276737</td>\n",
       "      <td>The Mummies of Urumchi</td>\n",
       "      <td>6</td>\n",
       "    </tr>\n",
       "  </tbody>\n",
       "</table>\n",
       "</div>"
      ],
      "text/plain": [
       "   userid                                              title  rating\n",
       "1  276726                                Classical Mythology       5\n",
       "2  276729                                       Clara Callan       3\n",
       "3  276729                               Decision in Normandy       6\n",
       "4  276736  Flu: The Story of the Great Influenza Pandemic...       8\n",
       "5  276737                             The Mummies of Urumchi       6"
      ]
     },
     "execution_count": 72,
     "metadata": {},
     "output_type": "execute_result"
    }
   ],
   "source": [
    "books1.head()"
   ]
  },
  {
   "cell_type": "code",
   "execution_count": 73,
   "id": "f89891b2",
   "metadata": {
    "ExecuteTime": {
     "end_time": "2022-06-14T13:32:52.928454Z",
     "start_time": "2022-06-14T13:32:52.915121Z"
    }
   },
   "outputs": [
    {
     "data": {
      "text/plain": [
       "2182"
      ]
     },
     "execution_count": 73,
     "metadata": {},
     "output_type": "execute_result"
    }
   ],
   "source": [
    "#no of unique userid\n",
    "len(books1.userid.unique())"
   ]
  },
  {
   "cell_type": "code",
   "execution_count": 74,
   "id": "0ea2a474",
   "metadata": {
    "ExecuteTime": {
     "end_time": "2022-06-14T13:32:52.944369Z",
     "start_time": "2022-06-14T13:32:52.930406Z"
    }
   },
   "outputs": [
    {
     "data": {
      "text/plain": [
       "8     2283\n",
       "7     2076\n",
       "10    1732\n",
       "9     1493\n",
       "5     1007\n",
       "6      920\n",
       "4      237\n",
       "3      146\n",
       "2       63\n",
       "1       43\n",
       "Name: rating, dtype: int64"
      ]
     },
     "execution_count": 74,
     "metadata": {},
     "output_type": "execute_result"
    }
   ],
   "source": [
    "books1['rating'].value_counts()"
   ]
  },
  {
   "cell_type": "code",
   "execution_count": 75,
   "id": "b096cc7a",
   "metadata": {
    "ExecuteTime": {
     "end_time": "2022-06-14T13:32:52.975304Z",
     "start_time": "2022-06-14T13:32:52.949356Z"
    }
   },
   "outputs": [
    {
     "data": {
      "text/plain": [
       "array(['Classical Mythology', 'Clara Callan', 'Decision in Normandy', ...,\n",
       "       'How to Flirt: A Practical Guide', 'Twilight',\n",
       "       'Kids Say the Darndest Things'], dtype=object)"
      ]
     },
     "execution_count": 75,
     "metadata": {},
     "output_type": "execute_result"
    }
   ],
   "source": [
    "books1.title.unique()"
   ]
  },
  {
   "cell_type": "code",
   "execution_count": 76,
   "id": "9567b300",
   "metadata": {
    "ExecuteTime": {
     "end_time": "2022-06-14T13:32:52.991376Z",
     "start_time": "2022-06-14T13:32:52.976301Z"
    }
   },
   "outputs": [
    {
     "data": {
      "text/plain": [
       "9659"
      ]
     },
     "execution_count": 76,
     "metadata": {},
     "output_type": "execute_result"
    }
   ],
   "source": [
    "#no of unique books\n",
    "len(books1.title.unique())"
   ]
  },
  {
   "cell_type": "code",
   "execution_count": 77,
   "id": "d63c0d66",
   "metadata": {
    "ExecuteTime": {
     "end_time": "2022-06-14T13:32:53.195418Z",
     "start_time": "2022-06-14T13:32:52.993331Z"
    }
   },
   "outputs": [
    {
     "data": {
      "text/plain": [
       "<AxesSubplot:>"
      ]
     },
     "execution_count": 77,
     "metadata": {},
     "output_type": "execute_result"
    },
    {
     "data": {
      "image/png": "[encoded data removed]",
      "text/plain": [
       "<Figure size 720x432 with 1 Axes>"
      ]
     },
     "metadata": {
      "needs_background": "light"
     },
     "output_type": "display_data"
    }
   ],
   "source": [
    "plt.figure(figsize=(10,6))\n",
    "books1['rating'].value_counts().plot(kind='bar')"
   ]
  },
  {
   "cell_type": "code",
   "execution_count": null,
   "id": "ed32db62",
   "metadata": {},
   "outputs": [],
   "source": []
  },
  {
   "cell_type": "code",
   "execution_count": null,
   "id": "50b30238",
   "metadata": {},
   "outputs": [],
   "source": []
  },
  {
   "cell_type": "code",
   "execution_count": null,
   "id": "b4640741",
   "metadata": {},
   "outputs": [],
   "source": []
  },
  {
   "cell_type": "code",
   "execution_count": 78,
   "id": "74392ae6",
   "metadata": {
    "ExecuteTime": {
     "end_time": "2022-06-14T13:32:53.211311Z",
     "start_time": "2022-06-14T13:32:53.197349Z"
    }
   },
   "outputs": [],
   "source": [
    "from sklearn.feature_extraction.text import TfidfVectorizer\n",
    "tfidf = TfidfVectorizer(stop_words='english')"
   ]
  },
  {
   "cell_type": "code",
   "execution_count": 79,
   "id": "471e1510",
   "metadata": {
    "ExecuteTime": {
     "end_time": "2022-06-14T13:32:53.227271Z",
     "start_time": "2022-06-14T13:32:53.212310Z"
    }
   },
   "outputs": [
    {
     "data": {
      "text/plain": [
       "0"
      ]
     },
     "execution_count": 79,
     "metadata": {},
     "output_type": "execute_result"
    }
   ],
   "source": [
    "books1['title'].isnull().sum()"
   ]
  },
  {
   "cell_type": "code",
   "execution_count": 80,
   "id": "8981206d",
   "metadata": {
    "ExecuteTime": {
     "end_time": "2022-06-14T13:32:53.243227Z",
     "start_time": "2022-06-14T13:32:53.228269Z"
    }
   },
   "outputs": [
    {
     "data": {
      "text/plain": [
       "0"
      ]
     },
     "execution_count": 80,
     "metadata": {},
     "output_type": "execute_result"
    }
   ],
   "source": [
    "books1['rating'].isnull().sum()"
   ]
  },
  {
   "cell_type": "code",
   "execution_count": 81,
   "id": "206d2dc2",
   "metadata": {
    "ExecuteTime": {
     "end_time": "2022-06-14T13:32:53.370064Z",
     "start_time": "2022-06-14T13:32:53.244223Z"
    }
   },
   "outputs": [],
   "source": [
    "tfidf_matrix = tfidf.fit_transform(books1['title'])"
   ]
  },
  {
   "cell_type": "code",
   "execution_count": 82,
   "id": "0e34cc61",
   "metadata": {
    "ExecuteTime": {
     "end_time": "2022-06-14T13:32:53.479742Z",
     "start_time": "2022-06-14T13:32:53.372751Z"
    }
   },
   "outputs": [],
   "source": [
    "tfidf_matrix = tfidf.fit_transform(books1['title'])"
   ]
  },
  {
   "cell_type": "code",
   "execution_count": 83,
   "id": "946600ac",
   "metadata": {
    "ExecuteTime": {
     "end_time": "2022-06-14T13:32:53.494640Z",
     "start_time": "2022-06-14T13:32:53.483667Z"
    }
   },
   "outputs": [
    {
     "data": {
      "text/plain": [
       "(10000, 11435)"
      ]
     },
     "execution_count": 83,
     "metadata": {},
     "output_type": "execute_result"
    }
   ],
   "source": [
    "tfidf_matrix.shape"
   ]
  },
  {
   "cell_type": "code",
   "execution_count": 84,
   "id": "e15a71f9",
   "metadata": {
    "ExecuteTime": {
     "end_time": "2022-06-14T13:32:53.636304Z",
     "start_time": "2022-06-14T13:32:53.496624Z"
    }
   },
   "outputs": [
    {
     "name": "stderr",
     "output_type": "stream",
     "text": [
      "C:\\Users\\Naveen\\anaconda3\\lib\\site-packages\\seaborn\\_decorators.py:36: FutureWarning: Pass the following variable as a keyword arg: x. From version 0.12, the only valid positional argument will be `data`, and passing other arguments without an explicit keyword will result in an error or misinterpretation.\n",
      "  warnings.warn(\n"
     ]
    },
    {
     "data": {
      "image/png": "[encoded data removed]",
      "text/plain": [
       "<Figure size 432x288 with 1 Axes>"
      ]
     },
     "metadata": {
      "needs_background": "light"
     },
     "output_type": "display_data"
    }
   ],
   "source": [
    "import seaborn as sns\n",
    "sns.countplot(books1['rating'])\n",
    "plt.show()"
   ]
  },
  {
   "cell_type": "code",
   "execution_count": 85,
   "id": "6791be72",
   "metadata": {
    "ExecuteTime": {
     "end_time": "2022-06-14T13:32:53.901653Z",
     "start_time": "2022-06-14T13:32:53.638302Z"
    }
   },
   "outputs": [],
   "source": [
    "from sklearn.metrics.pairwise import linear_kernel\n",
    "cosine_sim_matrix = linear_kernel(tfidf_matrix,tfidf_matrix)"
   ]
  },
  {
   "cell_type": "code",
   "execution_count": 86,
   "id": "799b9426",
   "metadata": {
    "ExecuteTime": {
     "end_time": "2022-06-14T13:32:53.916968Z",
     "start_time": "2022-06-14T13:32:53.904590Z"
    }
   },
   "outputs": [],
   "source": [
    "books_index = pd.Series(books1.index,index=books1['title']).drop_duplicates()"
   ]
  },
  {
   "cell_type": "code",
   "execution_count": 87,
   "id": "eb2b8883",
   "metadata": {
    "ExecuteTime": {
     "end_time": "2022-06-14T13:32:53.932929Z",
     "start_time": "2022-06-14T13:32:53.918967Z"
    }
   },
   "outputs": [
    {
     "data": {
      "text/plain": [
       "title\n",
       "Classical Mythology                                                                                       1\n",
       "Clara Callan                                                                                              2\n",
       "Decision in Normandy                                                                                      3\n",
       "Flu: The Story of the Great Influenza Pandemic of 1918 and the Search for the Virus That Caused It        4\n",
       "The Mummies of Urumchi                                                                                    5\n",
       "                                                                                                      ...  \n",
       "American Fried: Adventures of a Happy Eater.                                                           9996\n",
       "Cannibal In Manhattan                                                                                  9997\n",
       "How to Flirt: A Practical Guide                                                                        9998\n",
       "Twilight                                                                                               9999\n",
       "Kids Say the Darndest Things                                                                          10000\n",
       "Length: 10000, dtype: int64"
      ]
     },
     "execution_count": 87,
     "metadata": {},
     "output_type": "execute_result"
    }
   ],
   "source": [
    "books_index"
   ]
  },
  {
   "cell_type": "code",
   "execution_count": 88,
   "id": "8490b5f0",
   "metadata": {
    "ExecuteTime": {
     "end_time": "2022-06-14T13:32:53.948886Z",
     "start_time": "2022-06-14T13:32:53.934925Z"
    }
   },
   "outputs": [
    {
     "data": {
      "text/plain": [
       "3"
      ]
     },
     "execution_count": 88,
     "metadata": {},
     "output_type": "execute_result"
    }
   ],
   "source": [
    "books_index['Decision in Normandy']"
   ]
  },
  {
   "cell_type": "code",
   "execution_count": 105,
   "id": "3e336bd3",
   "metadata": {
    "ExecuteTime": {
     "end_time": "2022-06-14T13:46:37.922754Z",
     "start_time": "2022-06-14T13:46:37.910787Z"
    }
   },
   "outputs": [],
   "source": [
    "def get_book_recommendations(Name,topN):\n",
    "    #top N = 10 \n",
    "    #getting the book index using its title\n",
    "    book_id = books_index[Name]\n",
    "    #getting the pair wise similarity score for all the anime's with that anime\n",
    "    cosine_scores = list(enumerate(cosine_sim_matrix[book_id]))\n",
    "    #sorting the cosine simalirity scores based on scores\n",
    "    cosine_scores=sorted(cosine_scores,key=lambda x:x[1],reverse=True)\n",
    "    #get the scores of top 10 most similar books\n",
    "    cosine_scores_10 = cosine_scores[0:topN+1]\n",
    "    #getting the book index \n",
    "    book_idx = [i[0] for i in cosine_scores_10]\n",
    "    book_score = [i[1] for i in cosine_scores_10]\n",
    "    #similar movies and scores\n",
    "    book_similar_show = pd.DataFrame(columns=[\"title\",\"rating\"])\n",
    "    book_similar_show[\"title\"]=books1.loc[book_idx,'title']\n",
    "    book_similar_show[\"rating\"] = book_score\n",
    "    #book_similar_show.drop([\"index\"],axis=1,inplace=True)\n",
    "    print(book_similar_show)\n",
    "    #return (anime_similar_show)"
   ]
  },
  {
   "cell_type": "code",
   "execution_count": 106,
   "id": "7e09ccff",
   "metadata": {
    "ExecuteTime": {
     "end_time": "2022-06-14T13:46:38.364099Z",
     "start_time": "2022-06-14T13:46:38.332552Z"
    }
   },
   "outputs": [
    {
     "name": "stdout",
     "output_type": "stream",
     "text": [
      "                                                  title    rating\n",
      "5                                The Mummies of Urumchi  1.000000\n",
      "1429  Chicken Soup for the Mother's Soul (Chicken So...  1.000000\n",
      "2377                           Man's Search For Meaning  0.801084\n",
      "1411                                           Shopgirl  0.624005\n",
      "4769                                    The Corrections  0.465029\n",
      "1548  Secret Ceremonies: A Mormon Woman's Intimate D...  0.450221\n"
     ]
    }
   ],
   "source": [
    "get_book_recommendations(\"The Mummies of Urumchi\",topN=5)"
   ]
  },
  {
   "cell_type": "code",
   "execution_count": null,
   "id": "a35deb6b",
   "metadata": {},
   "outputs": [],
   "source": []
  }
 ],
 "metadata": {
  "kernelspec": {
   "display_name": "Python 3 (ipykernel)",
   "language": "python",
   "name": "python3"
  },
  "language_info": {
   "codemirror_mode": {
    "name": "ipython",
    "version": 3
   },
   "file_extension": ".py",
   "mimetype": "text/x-python",
   "name": "python",
   "nbconvert_exporter": "python",
   "pygments_lexer": "ipython3",
   "version": "3.9.12"
  }
 },
 "nbformat": 4,
 "nbformat_minor": 5
}
